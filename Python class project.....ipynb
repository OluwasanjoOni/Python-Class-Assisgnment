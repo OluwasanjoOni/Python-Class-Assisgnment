{
 "cells": [
  {
   "cell_type": "code",
   "execution_count": 52,
   "id": "afb60289",
   "metadata": {},
   "outputs": [],
   "source": [
    "class Atm:\n",
    "    balance = 0\n",
    "    count = 0  # initialising the counter\n",
    "    custoner_pin = 1234\n",
    "    def __init__(self, balance):\n",
    "        self.balance = balance\n",
    "        \n",
    "    def displayMenu(self):\n",
    "        print('Welcome!''Check Balance', 'Deposit', 'Withdraw', 'Exit')\n",
    "        \n",
    "    def enterPin(self, pin):\n",
    "        self.pin = pin\n",
    "        pin = int(input('Enter your pin: '))\n",
    "        while pin == customer_pin:\n",
    "            print('Welcome!''Check Balance', 'Deposit', 'Withdraw', 'Exit')  \n",
    "            count += 1\n",
    "            break\n",
    "        else:\n",
    "            pin = int(input('Enter your pin: '))\n",
    "            n = 3\n",
    "            print('card blocked')\n",
    "            \n",
    "    def checkBalance(self):\n",
    "        print('Your current balance is', self.balance)\n",
    "        \n",
    "    def deposit(self, amount):\n",
    "        self.balance = self.balance + amount\n",
    "        print('Successful deposit, your current balance is', self.balance)\n",
    "        \n",
    "    def withdraw(self, money):\n",
    "        if self.balance >= money:\n",
    "            self.balance = self.balance - money\n",
    "            print('Successful withdrawal, your new balance is', self.balance)\n",
    "        else:\n",
    "            print('insufficient balance')\n",
    "            \n",
    "    def exit(self):\n",
    "        print('Exit')\n",
    "        \n",
    "        \n"
   ]
  },
  {
   "cell_type": "code",
   "execution_count": 33,
   "id": "7a81463f",
   "metadata": {},
   "outputs": [
    {
     "name": "stdout",
     "output_type": "stream",
     "text": [
      "Welcome!Check Balance Deposit Withdraw Exit\n"
     ]
    }
   ],
   "source": [
    "gtb = Atm(0)\n",
    "\n",
    "gtb.displayMenu()"
   ]
  },
  {
   "cell_type": "code",
   "execution_count": 46,
   "id": "df09eb0c",
   "metadata": {},
   "outputs": [
    {
     "name": "stdout",
     "output_type": "stream",
     "text": [
      "Your current balance is 0\n"
     ]
    }
   ],
   "source": [
    "gtb = Atm(0)\n",
    "\n",
    "gtb.checkBalance()"
   ]
  },
  {
   "cell_type": "code",
   "execution_count": 48,
   "id": "f0a67d96",
   "metadata": {},
   "outputs": [
    {
     "name": "stdout",
     "output_type": "stream",
     "text": [
      "Successful deposit, your current balance is 5000\n"
     ]
    }
   ],
   "source": [
    "gtb = Atm(0)\n",
    "\n",
    "gtb.deposit(5000)"
   ]
  },
  {
   "cell_type": "code",
   "execution_count": 51,
   "id": "0751d4b1",
   "metadata": {},
   "outputs": [
    {
     "name": "stdout",
     "output_type": "stream",
     "text": [
      "insufficient balance\n"
     ]
    }
   ],
   "source": [
    "gtb = Atm(0)\n",
    "\n",
    "gtb.withdraw(400)"
   ]
  },
  {
   "cell_type": "code",
   "execution_count": 53,
   "id": "598423ff",
   "metadata": {},
   "outputs": [
    {
     "name": "stdout",
     "output_type": "stream",
     "text": [
      "Exit\n"
     ]
    }
   ],
   "source": [
    "gtb = Atm(0)\n",
    "\n",
    "gtb.exit()"
   ]
  },
  {
   "cell_type": "code",
   "execution_count": null,
   "id": "99a2faa0",
   "metadata": {},
   "outputs": [],
   "source": []
  }
 ],
 "metadata": {
  "kernelspec": {
   "display_name": "Python 3 (ipykernel)",
   "language": "python",
   "name": "python3"
  },
  "language_info": {
   "codemirror_mode": {
    "name": "ipython",
    "version": 3
   },
   "file_extension": ".py",
   "mimetype": "text/x-python",
   "name": "python",
   "nbconvert_exporter": "python",
   "pygments_lexer": "ipython3",
   "version": "3.9.12"
  }
 },
 "nbformat": 4,
 "nbformat_minor": 5
}
